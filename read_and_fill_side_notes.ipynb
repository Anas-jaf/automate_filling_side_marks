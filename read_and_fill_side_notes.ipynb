{
 "cells": [
  {
   "cell_type": "code",
   "execution_count": 35,
   "metadata": {},
   "outputs": [],
   "source": [
    "!! py -3.11 -m pip install openpyxl pandas docxtpl"
   ]
  },
  {
   "cell_type": "code",
   "execution_count": null,
   "metadata": {},
   "outputs": [],
   "source": [
    "import pandas as pd\n",
    "\n",
    "# Replace 'your_file.xlsx' with the path to your Excel file\n",
    "excel_file = 'الطلاب بالشعب.xlsx'\n",
    "\n",
    "# Read the Excel file into a pandas DataFrame with headers\n",
    "df = pd.read_excel(excel_file, header=0)  # Assuming headers are in the first row\n",
    "\n",
    "# Now you can work with the DataFrame 'df'\n",
    "print(df.head())  # Print the first few rows of the DataFrame\n"
   ]
  },
  {
   "cell_type": "code",
   "execution_count": null,
   "metadata": {},
   "outputs": [],
   "source": [
    "from pprint import pprint \n",
    "# Convert the DataFrame to a list of dictionaries\n",
    "data_list = df.to_dict('records')\n",
    "\n",
    "# Now data_list contains a list of dictionaries where each dictionary represents a row of data\n",
    "pprint(data_list)"
   ]
  },
  {
   "cell_type": "code",
   "execution_count": 41,
   "metadata": {},
   "outputs": [
    {
     "data": {
      "text/plain": [
       "'الصف الثاني عشر الأدبي-أ'"
      ]
     },
     "execution_count": 41,
     "metadata": {},
     "output_type": "execute_result"
    }
   ],
   "source": [
    "from pprint import pprint\n",
    "# Group the DataFrame by 'institution_class_name'\n",
    "grouped = df.groupby('institution_class_name')\n",
    "class_names = list(grouped.groups.keys())\n",
    "# Get the first group and convert it to a list of dictionaries\n",
    "first_group_dict = grouped.get_group(class_names[2]).to_dict('records')\n",
    "\n",
    "# Print the first group dictionary list\n",
    "# pprint(first_group_dict)\n",
    "# first_group_dict[0]['institution_class_name']\n",
    "# len([i['full_name'] for i in first_group_dict])\n"
   ]
  },
  {
   "cell_type": "code",
   "execution_count": 49,
   "metadata": {},
   "outputs": [],
   "source": [
    "from docxtpl import DocxTemplate\n",
    "\n",
    "def fill_doc(template , context , output):\n",
    "    \"\"\"دالة لتعبئة ملف ورد باستخدام المتغيرات في الملف\n",
    "    Args:\n",
    "        template (str): مسار النموذج \n",
    "        context (dict): قاموس بالمعلومات لغرض تعبئتها في ملف ورد ));\n",
    "        output (str): مسار الملف المعبأ بالمعلومات الموجودة في القاموس\n",
    "    \"\"\"    \n",
    "    doc = DocxTemplate(template)\n",
    "    context = context\n",
    "    doc.render(context)\n",
    "    doc.save(output)"
   ]
  },
  {
   "cell_type": "code",
   "execution_count": 54,
   "metadata": {},
   "outputs": [],
   "source": [
    "context = {'school_name':'مدرسة جحرا الثانوية للبنين'}\n",
    "for class_name in class_names: \n",
    "    group_dict = grouped.get_group(class_name).to_dict('records')\n",
    "    names = [i['full_name'] for i in group_dict]\n",
    "    context['grade_name'] = class_name\n",
    "    for counter ,name in enumerate(names , start = 1):\n",
    "        context[f'student{counter}'] = name\n",
    "    fill_doc('./assessment_tools.docx' ,context ,f'./send_folder/{class_name}.docx')"
   ]
  },
  {
   "cell_type": "code",
   "execution_count": 47,
   "metadata": {},
   "outputs": [
    {
     "data": {
      "text/plain": [
       "{'school': 'مدرسة جحرا الثانوية للبنين',\n",
       " 'grade_name': 'الصف العاشر الأكايمي-أ',\n",
       " 'student1': 'احمد كمال سالم الصلمان',\n",
       " 'student2': 'معتصم صايل حسن ابوقديره',\n",
       " 'student3': 'طارق عوض سالم الخرشه',\n",
       " 'student4': 'عبد الله احمد عبيد الله الدرارجه',\n",
       " 'student5': 'محمود عاطف عبدالسلام الجناديه',\n",
       " 'student6': 'قيس محمد فهمي الجناديه',\n",
       " 'student7': 'غسان مدالله مطلق الخرشه',\n",
       " 'student8': 'ايمن علي عبد الرحمن الخرشه',\n",
       " 'student9': 'مصعب كمال محمد الخرشه',\n",
       " 'student10': 'انس نايف ابراهيم الجناديه',\n",
       " 'student11': 'امير جهاد صالح الخرشه',\n",
       " 'student12': 'عبد الله هزاع عاطف الصلمان',\n",
       " 'student13': 'محمد احمد يوسف الخرشه',\n",
       " 'student14': 'عمر يحيى محمد الحريرات',\n",
       " 'student15': 'محمد جميل بركات الخرشه',\n",
       " 'student16': 'امير ابراهيم خلف الخرشه',\n",
       " 'student17': 'محمد عوده الله كايد ابو قديرى',\n",
       " 'student18': 'عصر مصلح عبد الله الدرارجه',\n",
       " 'student19': 'عباده جعفر عودة الله الجناديه',\n",
       " 'student20': 'حمزه محمد سالم الجناديه',\n",
       " 'student21': 'عبدالله علي عبدالله الدرارجه'}"
      ]
     },
     "execution_count": 47,
     "metadata": {},
     "output_type": "execute_result"
    }
   ],
   "source": [
    "context"
   ]
  },
  {
   "cell_type": "code",
   "execution_count": 55,
   "metadata": {},
   "outputs": [
    {
     "name": "stderr",
     "output_type": "stream",
     "text": [
      "c:\\Users\\ansas\\AppData\\Local\\Programs\\Python\\Python311\\Lib\\site-packages\\tqdm\\auto.py:21: TqdmWarning: IProgress not found. Please update jupyter and ipywidgets. See https://ipywidgets.readthedocs.io/en/stable/user_install.html\n",
      "  from .autonotebook import tqdm as notebook_tqdm\n",
      "100%|██████████| 9/9 [00:11<00:00,  1.33s/it]\n"
     ]
    }
   ],
   "source": [
    "from docx2pdf import convert\n",
    "\n",
    "def convert_to_pdf(input_folder):\n",
    "    try:\n",
    "        # Convert each Word file in the input folder to PDF\n",
    "        convert(input_folder)\n",
    "    except Exception as e:\n",
    "        print(f\"Error occurred: {e}\")\n",
    "\n",
    "if __name__ == '__main__':\n",
    "    input_folder = 'send_folder'  # Change this to the path of your input folder containing Word files\n",
    "    convert_to_pdf(input_folder)\n"
   ]
  }
 ],
 "metadata": {
  "kernelspec": {
   "display_name": "Python 3",
   "language": "python",
   "name": "python3"
  },
  "language_info": {
   "codemirror_mode": {
    "name": "ipython",
    "version": 3
   },
   "file_extension": ".py",
   "mimetype": "text/x-python",
   "name": "python",
   "nbconvert_exporter": "python",
   "pygments_lexer": "ipython3",
   "version": "3.11.1"
  }
 },
 "nbformat": 4,
 "nbformat_minor": 2
}
